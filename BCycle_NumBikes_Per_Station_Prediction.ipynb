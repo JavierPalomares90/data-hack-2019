{
  "cells": [
    {
      "metadata": {
        "collapsed": true
      },
      "cell_type": "markdown",
      "source": "## BCycle Data \nNotebook to predict the number of bikes leaving from each station per hour"
    },
    {
      "metadata": {},
      "cell_type": "markdown",
      "source": "## Getting the data from Blob Storage\nOur data is stored inside of Azure Blob Storage. Following is the code to get it to your notebook."
    },
    {
      "metadata": {
        "trusted": true
      },
      "cell_type": "code",
      "source": "# If you are running this code on your own computer, uncomment the following line.\n# !pip install azure",
      "execution_count": 45,
      "outputs": []
    },
    {
      "metadata": {
        "trusted": true
      },
      "cell_type": "code",
      "source": "from azure.storage.blob import BlockBlobService\nimport os",
      "execution_count": 46,
      "outputs": []
    },
    {
      "metadata": {
        "trusted": true
      },
      "cell_type": "code",
      "source": "# You should only run this code once.\n!mkdir bcycle",
      "execution_count": 47,
      "outputs": [
        {
          "output_type": "stream",
          "text": "mkdir: cannot create directory ‘bcycle’: File exists\r\n",
          "name": "stdout"
        }
      ]
    },
    {
      "metadata": {
        "trusted": true
      },
      "cell_type": "code",
      "source": "local_path=os.getcwd() + \"/bcycle\" # Where the data will be stored.\nblob_account_name = \"mldsdatahack2019diag\" # Don't edit!\nblob_account_key = \"JsauBssnY92CeD3MgI2SWhkQ16JioJCRWVW8NzKtcWckI+DaNNbCmpmMAVq27GD91mhgH+oHPx+QbIKUCow5gA==\"  # Don't edit!\n\nmycontainer = \"datahackdata2019\"       # Don't edit!",
      "execution_count": 48,
      "outputs": []
    },
    {
      "metadata": {
        "trusted": true
      },
      "cell_type": "code",
      "source": "import azure\nfrom azure.storage.blob import BlockBlobService\n\n# Create a client to get data\nblob_service = BlockBlobService(account_name=blob_account_name, account_key=blob_account_key)\n# Get the data\nblob_service.get_blob_to_path(\"datahackdata2019\", \"BCycleAustin.csv\", os.path.join(local_path, \"BCycleAustin.csv\"))",
      "execution_count": 49,
      "outputs": [
        {
          "output_type": "execute_result",
          "execution_count": 49,
          "data": {
            "text/plain": "<azure.storage.blob.models.Blob at 0x7f7159b11e10>"
          },
          "metadata": {}
        }
      ]
    },
    {
      "metadata": {},
      "cell_type": "markdown",
      "source": "## Load Data"
    },
    {
      "metadata": {
        "trusted": true
      },
      "cell_type": "code",
      "source": "# Yo should see BCycleAustin.csv\n!ls bcycle",
      "execution_count": 50,
      "outputs": [
        {
          "output_type": "stream",
          "text": "BCycleAustin.csv\r\n",
          "name": "stdout"
        }
      ]
    },
    {
      "metadata": {
        "trusted": true
      },
      "cell_type": "code",
      "source": "import pandas as pd\nimport matplotlib.pyplot as plt",
      "execution_count": 51,
      "outputs": []
    },
    {
      "metadata": {
        "trusted": true
      },
      "cell_type": "code",
      "source": "# Read in data\ndf = pd.read_csv('bcycle/BCycleAustin.csv')",
      "execution_count": 93,
      "outputs": []
    },
    {
      "metadata": {
        "trusted": true
      },
      "cell_type": "code",
      "source": "# See the first few rows.\ndf.head()",
      "execution_count": 94,
      "outputs": [
        {
          "output_type": "execute_result",
          "execution_count": 94,
          "data": {
            "text/html": "<div>\n<style scoped>\n    .dataframe tbody tr th:only-of-type {\n        vertical-align: middle;\n    }\n\n    .dataframe tbody tr th {\n        vertical-align: top;\n    }\n\n    .dataframe thead th {\n        text-align: right;\n    }\n</style>\n<table border=\"1\" class=\"dataframe\">\n  <thead>\n    <tr style=\"text-align: right;\">\n      <th></th>\n      <th>Trip ID</th>\n      <th>Membership Type</th>\n      <th>Bicycle ID</th>\n      <th>Checkout Kiosk ID</th>\n      <th>Checkout Kiosk</th>\n      <th>Return Kiosk ID</th>\n      <th>Return Kiosk</th>\n      <th>Trip Duration Minutes</th>\n      <th>Checkout DateTime</th>\n      <th>Checkout Latitude</th>\n      <th>Checkout Longitude</th>\n      <th>Return Latitude</th>\n      <th>Return Longitude</th>\n    </tr>\n  </thead>\n  <tbody>\n    <tr>\n      <th>0</th>\n      <td>9900285854</td>\n      <td>Annual (San Antonio B-cycle)</td>\n      <td>207.0</td>\n      <td>2537.0</td>\n      <td>West &amp; 6th St.</td>\n      <td>2707.0</td>\n      <td>Rainey St @ Cummings</td>\n      <td>76</td>\n      <td>2014-10-26 13:12:00</td>\n      <td>30.27041</td>\n      <td>-97.75046</td>\n      <td>30.25579</td>\n      <td>-97.73982</td>\n    </tr>\n    <tr>\n      <th>1</th>\n      <td>9900288020</td>\n      <td>24-Hour Kiosk (Austin B-cycle)</td>\n      <td>190.0</td>\n      <td>2537.0</td>\n      <td>West &amp; 6th St.</td>\n      <td>2707.0</td>\n      <td>Rainey St @ Cummings</td>\n      <td>12</td>\n      <td>2014-10-30 19:12:00</td>\n      <td>30.27041</td>\n      <td>-97.75046</td>\n      <td>30.25579</td>\n      <td>-97.73982</td>\n    </tr>\n    <tr>\n      <th>2</th>\n      <td>9900289011</td>\n      <td>Local365</td>\n      <td>190.0</td>\n      <td>2537.0</td>\n      <td>West &amp; 6th St.</td>\n      <td>2707.0</td>\n      <td>Rainey St @ Cummings</td>\n      <td>9</td>\n      <td>2015-10-01 19:12:27</td>\n      <td>30.27041</td>\n      <td>-97.75046</td>\n      <td>30.25579</td>\n      <td>-97.73982</td>\n    </tr>\n    <tr>\n      <th>3</th>\n      <td>9900292552</td>\n      <td>Walk Up</td>\n      <td>354.0</td>\n      <td>2537.0</td>\n      <td>West &amp; 6th St.</td>\n      <td>2707.0</td>\n      <td>Rainey St @ Cummings</td>\n      <td>14</td>\n      <td>2015-10-04 13:12:41</td>\n      <td>30.27041</td>\n      <td>-97.75046</td>\n      <td>30.25579</td>\n      <td>-97.73982</td>\n    </tr>\n    <tr>\n      <th>4</th>\n      <td>9900293709</td>\n      <td>Local365</td>\n      <td>20.0</td>\n      <td>2537.0</td>\n      <td>West &amp; 6th St.</td>\n      <td>2707.0</td>\n      <td>Rainey St @ Cummings</td>\n      <td>11</td>\n      <td>2015-10-04 13:12:56</td>\n      <td>30.27041</td>\n      <td>-97.75046</td>\n      <td>30.25579</td>\n      <td>-97.73982</td>\n    </tr>\n  </tbody>\n</table>\n</div>",
            "text/plain": "      Trip ID                 Membership Type  Bicycle ID  Checkout Kiosk ID  \\\n0  9900285854    Annual (San Antonio B-cycle)       207.0             2537.0   \n1  9900288020  24-Hour Kiosk (Austin B-cycle)       190.0             2537.0   \n2  9900289011                        Local365       190.0             2537.0   \n3  9900292552                         Walk Up       354.0             2537.0   \n4  9900293709                        Local365        20.0             2537.0   \n\n   Checkout Kiosk  Return Kiosk ID          Return Kiosk  \\\n0  West & 6th St.           2707.0  Rainey St @ Cummings   \n1  West & 6th St.           2707.0  Rainey St @ Cummings   \n2  West & 6th St.           2707.0  Rainey St @ Cummings   \n3  West & 6th St.           2707.0  Rainey St @ Cummings   \n4  West & 6th St.           2707.0  Rainey St @ Cummings   \n\n   Trip Duration Minutes    Checkout DateTime  Checkout Latitude  \\\n0                     76  2014-10-26 13:12:00           30.27041   \n1                     12  2014-10-30 19:12:00           30.27041   \n2                      9  2015-10-01 19:12:27           30.27041   \n3                     14  2015-10-04 13:12:41           30.27041   \n4                     11  2015-10-04 13:12:56           30.27041   \n\n   Checkout Longitude  Return Latitude  Return Longitude  \n0           -97.75046         30.25579         -97.73982  \n1           -97.75046         30.25579         -97.73982  \n2           -97.75046         30.25579         -97.73982  \n3           -97.75046         30.25579         -97.73982  \n4           -97.75046         30.25579         -97.73982  "
          },
          "metadata": {}
        }
      ]
    },
    {
      "metadata": {
        "trusted": true
      },
      "cell_type": "code",
      "source": "df.info(())",
      "execution_count": 95,
      "outputs": [
        {
          "output_type": "stream",
          "text": "<class 'pandas.core.frame.DataFrame'>\nRangeIndex: 1027711 entries, 0 to 1027710\nData columns (total 13 columns):\nTrip ID                  1027711 non-null int64\nMembership Type          1027711 non-null object\nBicycle ID               1027711 non-null float64\nCheckout Kiosk ID        1027711 non-null float64\nCheckout Kiosk           1027711 non-null object\nReturn Kiosk ID          1027711 non-null float64\nReturn Kiosk             1027711 non-null object\nTrip Duration Minutes    1027711 non-null int64\nCheckout DateTime        1027711 non-null object\nCheckout Latitude        1027711 non-null float64\nCheckout Longitude       1027711 non-null float64\nReturn Latitude          1027711 non-null float64\nReturn Longitude         1027711 non-null float64\ndtypes: float64(7), int64(2), object(4)\nmemory usage: 101.9+ MB\n",
          "name": "stdout"
        }
      ]
    },
    {
      "metadata": {},
      "cell_type": "markdown",
      "source": "##  Get the hour when a bike left"
    },
    {
      "metadata": {
        "trusted": true
      },
      "cell_type": "code",
      "source": "# Convert the checkout datetime from string to an actual date-time object.\ndf['Checkout DateTime'] = pd.to_datetime(df['Checkout DateTime'])",
      "execution_count": 96,
      "outputs": []
    },
    {
      "metadata": {
        "trusted": true
      },
      "cell_type": "code",
      "source": "# Checkout datetime is now a datetime\ndf.head()",
      "execution_count": 97,
      "outputs": [
        {
          "output_type": "execute_result",
          "execution_count": 97,
          "data": {
            "text/html": "<div>\n<style scoped>\n    .dataframe tbody tr th:only-of-type {\n        vertical-align: middle;\n    }\n\n    .dataframe tbody tr th {\n        vertical-align: top;\n    }\n\n    .dataframe thead th {\n        text-align: right;\n    }\n</style>\n<table border=\"1\" class=\"dataframe\">\n  <thead>\n    <tr style=\"text-align: right;\">\n      <th></th>\n      <th>Trip ID</th>\n      <th>Membership Type</th>\n      <th>Bicycle ID</th>\n      <th>Checkout Kiosk ID</th>\n      <th>Checkout Kiosk</th>\n      <th>Return Kiosk ID</th>\n      <th>Return Kiosk</th>\n      <th>Trip Duration Minutes</th>\n      <th>Checkout DateTime</th>\n      <th>Checkout Latitude</th>\n      <th>Checkout Longitude</th>\n      <th>Return Latitude</th>\n      <th>Return Longitude</th>\n    </tr>\n  </thead>\n  <tbody>\n    <tr>\n      <th>0</th>\n      <td>9900285854</td>\n      <td>Annual (San Antonio B-cycle)</td>\n      <td>207.0</td>\n      <td>2537.0</td>\n      <td>West &amp; 6th St.</td>\n      <td>2707.0</td>\n      <td>Rainey St @ Cummings</td>\n      <td>76</td>\n      <td>2014-10-26 13:12:00</td>\n      <td>30.27041</td>\n      <td>-97.75046</td>\n      <td>30.25579</td>\n      <td>-97.73982</td>\n    </tr>\n    <tr>\n      <th>1</th>\n      <td>9900288020</td>\n      <td>24-Hour Kiosk (Austin B-cycle)</td>\n      <td>190.0</td>\n      <td>2537.0</td>\n      <td>West &amp; 6th St.</td>\n      <td>2707.0</td>\n      <td>Rainey St @ Cummings</td>\n      <td>12</td>\n      <td>2014-10-30 19:12:00</td>\n      <td>30.27041</td>\n      <td>-97.75046</td>\n      <td>30.25579</td>\n      <td>-97.73982</td>\n    </tr>\n    <tr>\n      <th>2</th>\n      <td>9900289011</td>\n      <td>Local365</td>\n      <td>190.0</td>\n      <td>2537.0</td>\n      <td>West &amp; 6th St.</td>\n      <td>2707.0</td>\n      <td>Rainey St @ Cummings</td>\n      <td>9</td>\n      <td>2015-10-01 19:12:27</td>\n      <td>30.27041</td>\n      <td>-97.75046</td>\n      <td>30.25579</td>\n      <td>-97.73982</td>\n    </tr>\n    <tr>\n      <th>3</th>\n      <td>9900292552</td>\n      <td>Walk Up</td>\n      <td>354.0</td>\n      <td>2537.0</td>\n      <td>West &amp; 6th St.</td>\n      <td>2707.0</td>\n      <td>Rainey St @ Cummings</td>\n      <td>14</td>\n      <td>2015-10-04 13:12:41</td>\n      <td>30.27041</td>\n      <td>-97.75046</td>\n      <td>30.25579</td>\n      <td>-97.73982</td>\n    </tr>\n    <tr>\n      <th>4</th>\n      <td>9900293709</td>\n      <td>Local365</td>\n      <td>20.0</td>\n      <td>2537.0</td>\n      <td>West &amp; 6th St.</td>\n      <td>2707.0</td>\n      <td>Rainey St @ Cummings</td>\n      <td>11</td>\n      <td>2015-10-04 13:12:56</td>\n      <td>30.27041</td>\n      <td>-97.75046</td>\n      <td>30.25579</td>\n      <td>-97.73982</td>\n    </tr>\n  </tbody>\n</table>\n</div>",
            "text/plain": "      Trip ID                 Membership Type  Bicycle ID  Checkout Kiosk ID  \\\n0  9900285854    Annual (San Antonio B-cycle)       207.0             2537.0   \n1  9900288020  24-Hour Kiosk (Austin B-cycle)       190.0             2537.0   \n2  9900289011                        Local365       190.0             2537.0   \n3  9900292552                         Walk Up       354.0             2537.0   \n4  9900293709                        Local365        20.0             2537.0   \n\n   Checkout Kiosk  Return Kiosk ID          Return Kiosk  \\\n0  West & 6th St.           2707.0  Rainey St @ Cummings   \n1  West & 6th St.           2707.0  Rainey St @ Cummings   \n2  West & 6th St.           2707.0  Rainey St @ Cummings   \n3  West & 6th St.           2707.0  Rainey St @ Cummings   \n4  West & 6th St.           2707.0  Rainey St @ Cummings   \n\n   Trip Duration Minutes   Checkout DateTime  Checkout Latitude  \\\n0                     76 2014-10-26 13:12:00           30.27041   \n1                     12 2014-10-30 19:12:00           30.27041   \n2                      9 2015-10-01 19:12:27           30.27041   \n3                     14 2015-10-04 13:12:41           30.27041   \n4                     11 2015-10-04 13:12:56           30.27041   \n\n   Checkout Longitude  Return Latitude  Return Longitude  \n0           -97.75046         30.25579         -97.73982  \n1           -97.75046         30.25579         -97.73982  \n2           -97.75046         30.25579         -97.73982  \n3           -97.75046         30.25579         -97.73982  \n4           -97.75046         30.25579         -97.73982  "
          },
          "metadata": {}
        }
      ]
    },
    {
      "metadata": {
        "trusted": true
      },
      "cell_type": "code",
      "source": "# Get the checkout year, month, day, hour\ndf['Checkout Hour'] = df['Checkout DateTime'].apply(lambda x : x.hour)\ndf['Checkout Day'] = df['Checkout DateTime'].apply(lambda x: x.day)\ndf['Checkout Month'] = df['Checkout DateTime'].apply(lambda x: x.month)\ndf['Checkout Year'] = df['Checkout DateTime'].apply(lambda x: x.year)\n",
      "execution_count": 138,
      "outputs": []
    },
    {
      "metadata": {
        "trusted": true,
        "scrolled": true
      },
      "cell_type": "code",
      "source": "df.head()",
      "execution_count": 139,
      "outputs": [
        {
          "output_type": "execute_result",
          "execution_count": 139,
          "data": {
            "text/html": "<div>\n<style scoped>\n    .dataframe tbody tr th:only-of-type {\n        vertical-align: middle;\n    }\n\n    .dataframe tbody tr th {\n        vertical-align: top;\n    }\n\n    .dataframe thead th {\n        text-align: right;\n    }\n</style>\n<table border=\"1\" class=\"dataframe\">\n  <thead>\n    <tr style=\"text-align: right;\">\n      <th></th>\n      <th>Trip ID</th>\n      <th>Membership Type</th>\n      <th>Bicycle ID</th>\n      <th>Checkout Kiosk ID</th>\n      <th>Checkout Kiosk</th>\n      <th>Return Kiosk ID</th>\n      <th>Return Kiosk</th>\n      <th>Trip Duration Minutes</th>\n      <th>Checkout DateTime</th>\n      <th>Checkout Latitude</th>\n      <th>Checkout Longitude</th>\n      <th>Return Latitude</th>\n      <th>Return Longitude</th>\n      <th>Checkout Hour</th>\n      <th>Checkout Day</th>\n      <th>Checkout Year</th>\n      <th>Checkout Month</th>\n    </tr>\n  </thead>\n  <tbody>\n    <tr>\n      <th>0</th>\n      <td>9900285854</td>\n      <td>Annual (San Antonio B-cycle)</td>\n      <td>207.0</td>\n      <td>2537.0</td>\n      <td>West &amp; 6th St.</td>\n      <td>2707.0</td>\n      <td>Rainey St @ Cummings</td>\n      <td>76</td>\n      <td>2014-10-26 13:12:00</td>\n      <td>30.27041</td>\n      <td>-97.75046</td>\n      <td>30.25579</td>\n      <td>-97.73982</td>\n      <td>13</td>\n      <td>26</td>\n      <td>2014</td>\n      <td>10</td>\n    </tr>\n    <tr>\n      <th>1</th>\n      <td>9900288020</td>\n      <td>24-Hour Kiosk (Austin B-cycle)</td>\n      <td>190.0</td>\n      <td>2537.0</td>\n      <td>West &amp; 6th St.</td>\n      <td>2707.0</td>\n      <td>Rainey St @ Cummings</td>\n      <td>12</td>\n      <td>2014-10-30 19:12:00</td>\n      <td>30.27041</td>\n      <td>-97.75046</td>\n      <td>30.25579</td>\n      <td>-97.73982</td>\n      <td>19</td>\n      <td>30</td>\n      <td>2014</td>\n      <td>10</td>\n    </tr>\n    <tr>\n      <th>2</th>\n      <td>9900289011</td>\n      <td>Local365</td>\n      <td>190.0</td>\n      <td>2537.0</td>\n      <td>West &amp; 6th St.</td>\n      <td>2707.0</td>\n      <td>Rainey St @ Cummings</td>\n      <td>9</td>\n      <td>2015-10-01 19:12:27</td>\n      <td>30.27041</td>\n      <td>-97.75046</td>\n      <td>30.25579</td>\n      <td>-97.73982</td>\n      <td>19</td>\n      <td>1</td>\n      <td>2015</td>\n      <td>10</td>\n    </tr>\n    <tr>\n      <th>3</th>\n      <td>9900292552</td>\n      <td>Walk Up</td>\n      <td>354.0</td>\n      <td>2537.0</td>\n      <td>West &amp; 6th St.</td>\n      <td>2707.0</td>\n      <td>Rainey St @ Cummings</td>\n      <td>14</td>\n      <td>2015-10-04 13:12:41</td>\n      <td>30.27041</td>\n      <td>-97.75046</td>\n      <td>30.25579</td>\n      <td>-97.73982</td>\n      <td>13</td>\n      <td>4</td>\n      <td>2015</td>\n      <td>10</td>\n    </tr>\n    <tr>\n      <th>4</th>\n      <td>9900293709</td>\n      <td>Local365</td>\n      <td>20.0</td>\n      <td>2537.0</td>\n      <td>West &amp; 6th St.</td>\n      <td>2707.0</td>\n      <td>Rainey St @ Cummings</td>\n      <td>11</td>\n      <td>2015-10-04 13:12:56</td>\n      <td>30.27041</td>\n      <td>-97.75046</td>\n      <td>30.25579</td>\n      <td>-97.73982</td>\n      <td>13</td>\n      <td>4</td>\n      <td>2015</td>\n      <td>10</td>\n    </tr>\n  </tbody>\n</table>\n</div>",
            "text/plain": "      Trip ID                 Membership Type  Bicycle ID  Checkout Kiosk ID  \\\n0  9900285854    Annual (San Antonio B-cycle)       207.0             2537.0   \n1  9900288020  24-Hour Kiosk (Austin B-cycle)       190.0             2537.0   \n2  9900289011                        Local365       190.0             2537.0   \n3  9900292552                         Walk Up       354.0             2537.0   \n4  9900293709                        Local365        20.0             2537.0   \n\n   Checkout Kiosk  Return Kiosk ID          Return Kiosk  \\\n0  West & 6th St.           2707.0  Rainey St @ Cummings   \n1  West & 6th St.           2707.0  Rainey St @ Cummings   \n2  West & 6th St.           2707.0  Rainey St @ Cummings   \n3  West & 6th St.           2707.0  Rainey St @ Cummings   \n4  West & 6th St.           2707.0  Rainey St @ Cummings   \n\n   Trip Duration Minutes   Checkout DateTime  Checkout Latitude  \\\n0                     76 2014-10-26 13:12:00           30.27041   \n1                     12 2014-10-30 19:12:00           30.27041   \n2                      9 2015-10-01 19:12:27           30.27041   \n3                     14 2015-10-04 13:12:41           30.27041   \n4                     11 2015-10-04 13:12:56           30.27041   \n\n   Checkout Longitude  Return Latitude  Return Longitude  Checkout Hour  \\\n0           -97.75046         30.25579         -97.73982             13   \n1           -97.75046         30.25579         -97.73982             19   \n2           -97.75046         30.25579         -97.73982             19   \n3           -97.75046         30.25579         -97.73982             13   \n4           -97.75046         30.25579         -97.73982             13   \n\n   Checkout Day  Checkout Year  Checkout Month  \n0            26           2014              10  \n1            30           2014              10  \n2             1           2015              10  \n3             4           2015              10  \n4             4           2015              10  "
          },
          "metadata": {}
        }
      ]
    },
    {
      "metadata": {
        "trusted": true
      },
      "cell_type": "code",
      "source": "bikes_left = df.groupby(['Checkout Kiosk ID','Checkout Year','Checkout Month','Checkout Day','Checkout Hour'],sort=False).size().reset_index(name='Count')\nbikes_left = bikes_left.drop(columns=['Checkout Year','Checkout Month','Checkout Day'])\nbikes_left = bikes_left.dropna()\n\nbikes_arriving = df.groupby(['Return Kiosk ID','Checkout Year','Checkout Month','Checkout Day','Checkout Hour'],sort=False).size().reset_index(name='Count')\nbikes_arriving = bikes_arriving.drop(columns=['Checkout Year','Checkout Month','Checkout Day'])\nbikes_left = bikes_left.dropna()",
      "execution_count": 242,
      "outputs": []
    },
    {
      "metadata": {
        "trusted": true
      },
      "cell_type": "code",
      "source": "bikes_left.head()",
      "execution_count": 243,
      "outputs": [
        {
          "output_type": "execute_result",
          "execution_count": 243,
          "data": {
            "text/html": "<div>\n<style scoped>\n    .dataframe tbody tr th:only-of-type {\n        vertical-align: middle;\n    }\n\n    .dataframe tbody tr th {\n        vertical-align: top;\n    }\n\n    .dataframe thead th {\n        text-align: right;\n    }\n</style>\n<table border=\"1\" class=\"dataframe\">\n  <thead>\n    <tr style=\"text-align: right;\">\n      <th></th>\n      <th>Checkout Kiosk ID</th>\n      <th>Checkout Hour</th>\n      <th>Count</th>\n    </tr>\n  </thead>\n  <tbody>\n    <tr>\n      <th>0</th>\n      <td>2537.0</td>\n      <td>13</td>\n      <td>3</td>\n    </tr>\n    <tr>\n      <th>1</th>\n      <td>2537.0</td>\n      <td>19</td>\n      <td>3</td>\n    </tr>\n    <tr>\n      <th>2</th>\n      <td>2537.0</td>\n      <td>19</td>\n      <td>7</td>\n    </tr>\n    <tr>\n      <th>3</th>\n      <td>2537.0</td>\n      <td>13</td>\n      <td>3</td>\n    </tr>\n    <tr>\n      <th>4</th>\n      <td>2537.0</td>\n      <td>17</td>\n      <td>1</td>\n    </tr>\n  </tbody>\n</table>\n</div>",
            "text/plain": "   Checkout Kiosk ID  Checkout Hour  Count\n0             2537.0             13      3\n1             2537.0             19      3\n2             2537.0             19      7\n3             2537.0             13      3\n4             2537.0             17      1"
          },
          "metadata": {}
        }
      ]
    },
    {
      "metadata": {
        "trusted": true
      },
      "cell_type": "code",
      "source": "bikes_left.info()",
      "execution_count": 244,
      "outputs": [
        {
          "output_type": "stream",
          "text": "<class 'pandas.core.frame.DataFrame'>\nInt64Index: 420261 entries, 0 to 420260\nData columns (total 3 columns):\nCheckout Kiosk ID    420261 non-null float64\nCheckout Hour        420261 non-null int64\nCount                420261 non-null int64\ndtypes: float64(1), int64(2)\nmemory usage: 12.8 MB\n",
          "name": "stdout"
        }
      ]
    },
    {
      "metadata": {
        "trusted": true
      },
      "cell_type": "code",
      "source": "bikes_left[\"Checkout Kiosk ID\"] = bikes_left[\"Checkout Kiosk ID\"].astype('category')\nbikes_arriving[\"Return Kiosk ID\"] = bikes_arriving[\"Return Kiosk ID\"].astype('category')\nbikes_left.info()",
      "execution_count": 245,
      "outputs": [
        {
          "output_type": "stream",
          "text": "<class 'pandas.core.frame.DataFrame'>\nInt64Index: 420261 entries, 0 to 420260\nData columns (total 3 columns):\nCheckout Kiosk ID    420261 non-null category\nCheckout Hour        420261 non-null int64\nCount                420261 non-null int64\ndtypes: category(1), int64(2)\nmemory usage: 10.0 MB\n",
          "name": "stdout"
        }
      ]
    },
    {
      "metadata": {
        "trusted": true
      },
      "cell_type": "code",
      "source": "# Convert categorical variable into dummy/indicator variables\nbikes_left = pd.get_dummies(bikes_left)\nbikes_arriving = pd.get_dummies(bikes_arriving)",
      "execution_count": 246,
      "outputs": []
    },
    {
      "metadata": {
        "trusted": true
      },
      "cell_type": "code",
      "source": "bikes_left.head()",
      "execution_count": 247,
      "outputs": [
        {
          "output_type": "execute_result",
          "execution_count": 247,
          "data": {
            "text/html": "<div>\n<style scoped>\n    .dataframe tbody tr th:only-of-type {\n        vertical-align: middle;\n    }\n\n    .dataframe tbody tr th {\n        vertical-align: top;\n    }\n\n    .dataframe thead th {\n        text-align: right;\n    }\n</style>\n<table border=\"1\" class=\"dataframe\">\n  <thead>\n    <tr style=\"text-align: right;\">\n      <th></th>\n      <th>Checkout Hour</th>\n      <th>Count</th>\n      <th>Checkout Kiosk ID_1001.0</th>\n      <th>Checkout Kiosk ID_1002.0</th>\n      <th>Checkout Kiosk ID_1003.0</th>\n      <th>Checkout Kiosk ID_1005.0</th>\n      <th>Checkout Kiosk ID_1006.0</th>\n      <th>Checkout Kiosk ID_1007.0</th>\n      <th>Checkout Kiosk ID_1008.0</th>\n      <th>Checkout Kiosk ID_2494.0</th>\n      <th>...</th>\n      <th>Checkout Kiosk ID_4051.0</th>\n      <th>Checkout Kiosk ID_4052.0</th>\n      <th>Checkout Kiosk ID_4054.0</th>\n      <th>Checkout Kiosk ID_4055.0</th>\n      <th>Checkout Kiosk ID_4057.0</th>\n      <th>Checkout Kiosk ID_4058.0</th>\n      <th>Checkout Kiosk ID_4059.0</th>\n      <th>Checkout Kiosk ID_4060.0</th>\n      <th>Checkout Kiosk ID_4061.0</th>\n      <th>Checkout Kiosk ID_4062.0</th>\n    </tr>\n  </thead>\n  <tbody>\n    <tr>\n      <th>0</th>\n      <td>13</td>\n      <td>3</td>\n      <td>0</td>\n      <td>0</td>\n      <td>0</td>\n      <td>0</td>\n      <td>0</td>\n      <td>0</td>\n      <td>0</td>\n      <td>0</td>\n      <td>...</td>\n      <td>0</td>\n      <td>0</td>\n      <td>0</td>\n      <td>0</td>\n      <td>0</td>\n      <td>0</td>\n      <td>0</td>\n      <td>0</td>\n      <td>0</td>\n      <td>0</td>\n    </tr>\n    <tr>\n      <th>1</th>\n      <td>19</td>\n      <td>3</td>\n      <td>0</td>\n      <td>0</td>\n      <td>0</td>\n      <td>0</td>\n      <td>0</td>\n      <td>0</td>\n      <td>0</td>\n      <td>0</td>\n      <td>...</td>\n      <td>0</td>\n      <td>0</td>\n      <td>0</td>\n      <td>0</td>\n      <td>0</td>\n      <td>0</td>\n      <td>0</td>\n      <td>0</td>\n      <td>0</td>\n      <td>0</td>\n    </tr>\n    <tr>\n      <th>2</th>\n      <td>19</td>\n      <td>7</td>\n      <td>0</td>\n      <td>0</td>\n      <td>0</td>\n      <td>0</td>\n      <td>0</td>\n      <td>0</td>\n      <td>0</td>\n      <td>0</td>\n      <td>...</td>\n      <td>0</td>\n      <td>0</td>\n      <td>0</td>\n      <td>0</td>\n      <td>0</td>\n      <td>0</td>\n      <td>0</td>\n      <td>0</td>\n      <td>0</td>\n      <td>0</td>\n    </tr>\n    <tr>\n      <th>3</th>\n      <td>13</td>\n      <td>3</td>\n      <td>0</td>\n      <td>0</td>\n      <td>0</td>\n      <td>0</td>\n      <td>0</td>\n      <td>0</td>\n      <td>0</td>\n      <td>0</td>\n      <td>...</td>\n      <td>0</td>\n      <td>0</td>\n      <td>0</td>\n      <td>0</td>\n      <td>0</td>\n      <td>0</td>\n      <td>0</td>\n      <td>0</td>\n      <td>0</td>\n      <td>0</td>\n    </tr>\n    <tr>\n      <th>4</th>\n      <td>17</td>\n      <td>1</td>\n      <td>0</td>\n      <td>0</td>\n      <td>0</td>\n      <td>0</td>\n      <td>0</td>\n      <td>0</td>\n      <td>0</td>\n      <td>0</td>\n      <td>...</td>\n      <td>0</td>\n      <td>0</td>\n      <td>0</td>\n      <td>0</td>\n      <td>0</td>\n      <td>0</td>\n      <td>0</td>\n      <td>0</td>\n      <td>0</td>\n      <td>0</td>\n    </tr>\n  </tbody>\n</table>\n<p>5 rows × 97 columns</p>\n</div>",
            "text/plain": "   Checkout Hour  Count  Checkout Kiosk ID_1001.0  Checkout Kiosk ID_1002.0  \\\n0             13      3                         0                         0   \n1             19      3                         0                         0   \n2             19      7                         0                         0   \n3             13      3                         0                         0   \n4             17      1                         0                         0   \n\n   Checkout Kiosk ID_1003.0  Checkout Kiosk ID_1005.0  \\\n0                         0                         0   \n1                         0                         0   \n2                         0                         0   \n3                         0                         0   \n4                         0                         0   \n\n   Checkout Kiosk ID_1006.0  Checkout Kiosk ID_1007.0  \\\n0                         0                         0   \n1                         0                         0   \n2                         0                         0   \n3                         0                         0   \n4                         0                         0   \n\n   Checkout Kiosk ID_1008.0  Checkout Kiosk ID_2494.0  \\\n0                         0                         0   \n1                         0                         0   \n2                         0                         0   \n3                         0                         0   \n4                         0                         0   \n\n             ...             Checkout Kiosk ID_4051.0  \\\n0            ...                                    0   \n1            ...                                    0   \n2            ...                                    0   \n3            ...                                    0   \n4            ...                                    0   \n\n   Checkout Kiosk ID_4052.0  Checkout Kiosk ID_4054.0  \\\n0                         0                         0   \n1                         0                         0   \n2                         0                         0   \n3                         0                         0   \n4                         0                         0   \n\n   Checkout Kiosk ID_4055.0  Checkout Kiosk ID_4057.0  \\\n0                         0                         0   \n1                         0                         0   \n2                         0                         0   \n3                         0                         0   \n4                         0                         0   \n\n   Checkout Kiosk ID_4058.0  Checkout Kiosk ID_4059.0  \\\n0                         0                         0   \n1                         0                         0   \n2                         0                         0   \n3                         0                         0   \n4                         0                         0   \n\n   Checkout Kiosk ID_4060.0  Checkout Kiosk ID_4061.0  \\\n0                         0                         0   \n1                         0                         0   \n2                         0                         0   \n3                         0                         0   \n4                         0                         0   \n\n   Checkout Kiosk ID_4062.0  \n0                         0  \n1                         0  \n2                         0  \n3                         0  \n4                         0  \n\n[5 rows x 97 columns]"
          },
          "metadata": {}
        }
      ]
    },
    {
      "metadata": {
        "trusted": true
      },
      "cell_type": "code",
      "source": "",
      "execution_count": null,
      "outputs": []
    }
  ],
  "metadata": {
    "kernelspec": {
      "name": "python3",
      "display_name": "Python 3.5",
      "language": "python"
    },
    "language_info": {
      "pygments_lexer": "ipython3",
      "version": "3.5.5",
      "mimetype": "text/x-python",
      "name": "python",
      "file_extension": ".py",
      "codemirror_mode": {
        "version": 3,
        "name": "ipython"
      },
      "nbconvert_exporter": "python"
    }
  },
  "nbformat": 4,
  "nbformat_minor": 2
}