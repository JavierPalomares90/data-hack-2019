{
  "cells": [
    {
      "metadata": {
        "collapsed": true
      },
      "cell_type": "markdown",
      "source": "## BCycle Data \nNotebook to predict the number of bikes leaving from each station per hour"
    },
    {
      "metadata": {},
      "cell_type": "markdown",
      "source": "## Getting the data from Blob Storage\nOur data is stored inside of Azure Blob Storage. Following is the code to get it to your notebook."
    },
    {
      "metadata": {
        "trusted": true
      },
      "cell_type": "code",
      "source": "# If you are running this code on your own computer, uncomment the following line.\n# !pip install azure",
      "execution_count": 1,
      "outputs": []
    },
    {
      "metadata": {
        "trusted": true
      },
      "cell_type": "code",
      "source": "from azure.storage.blob import BlockBlobService\nimport os",
      "execution_count": 31,
      "outputs": []
    },
    {
      "metadata": {
        "trusted": true
      },
      "cell_type": "code",
      "source": "# You should only run this code once.\n!mkdir bcycle",
      "execution_count": 32,
      "outputs": [
        {
          "output_type": "stream",
          "text": "mkdir: cannot create directory ‘bcycle’: File exists\r\n",
          "name": "stdout"
        }
      ]
    },
    {
      "metadata": {
        "trusted": true
      },
      "cell_type": "code",
      "source": "local_path=os.getcwd() + \"/bcycle\" # Where the data will be stored.\nblob_account_name = \"mldsdatahack2019diag\" # Don't edit!\nblob_account_key = \"JsauBssnY92CeD3MgI2SWhkQ16JioJCRWVW8NzKtcWckI+DaNNbCmpmMAVq27GD91mhgH+oHPx+QbIKUCow5gA==\"  # Don't edit!\n\nmycontainer = \"datahackdata2019\"       # Don't edit!",
      "execution_count": 33,
      "outputs": []
    },
    {
      "metadata": {
        "trusted": true
      },
      "cell_type": "code",
      "source": "import azure\nfrom azure.storage.blob import BlockBlobService\n\n# Create a client to get data\nblob_service = BlockBlobService(account_name=blob_account_name, account_key=blob_account_key)\n# Get the data\nblob_service.get_blob_to_path(\"datahackdata2019\", \"BCycleAustin.csv\", os.path.join(local_path, \"BCycleAustin.csv\"))",
      "execution_count": 34,
      "outputs": [
        {
          "output_type": "execute_result",
          "execution_count": 34,
          "data": {
            "text/plain": "<azure.storage.blob.models.Blob at 0x7f7c9ac96898>"
          },
          "metadata": {}
        }
      ]
    },
    {
      "metadata": {},
      "cell_type": "markdown",
      "source": "## Load Data"
    },
    {
      "metadata": {
        "trusted": true
      },
      "cell_type": "code",
      "source": "# Yo should see BCycleAustin.csv\n!ls bcycle",
      "execution_count": 35,
      "outputs": [
        {
          "output_type": "stream",
          "text": "BCycleAustin.csv\r\n",
          "name": "stdout"
        }
      ]
    },
    {
      "metadata": {
        "trusted": true
      },
      "cell_type": "code",
      "source": "import pandas as pd\nimport matplotlib.pyplot as plt",
      "execution_count": 36,
      "outputs": []
    },
    {
      "metadata": {
        "trusted": true
      },
      "cell_type": "code",
      "source": "# Read in data\ndf = pd.read_csv('bcycle/BCycleAustin.csv')",
      "execution_count": 37,
      "outputs": []
    },
    {
      "metadata": {
        "trusted": true
      },
      "cell_type": "code",
      "source": "# See the first few rows.\ndf.head()",
      "execution_count": 38,
      "outputs": [
        {
          "output_type": "execute_result",
          "execution_count": 38,
          "data": {
            "text/html": "<div>\n<style scoped>\n    .dataframe tbody tr th:only-of-type {\n        vertical-align: middle;\n    }\n\n    .dataframe tbody tr th {\n        vertical-align: top;\n    }\n\n    .dataframe thead th {\n        text-align: right;\n    }\n</style>\n<table border=\"1\" class=\"dataframe\">\n  <thead>\n    <tr style=\"text-align: right;\">\n      <th></th>\n      <th>Trip ID</th>\n      <th>Membership Type</th>\n      <th>Bicycle ID</th>\n      <th>Checkout Kiosk ID</th>\n      <th>Checkout Kiosk</th>\n      <th>Return Kiosk ID</th>\n      <th>Return Kiosk</th>\n      <th>Trip Duration Minutes</th>\n      <th>Checkout DateTime</th>\n      <th>Checkout Latitude</th>\n      <th>Checkout Longitude</th>\n      <th>Return Latitude</th>\n      <th>Return Longitude</th>\n    </tr>\n  </thead>\n  <tbody>\n    <tr>\n      <th>0</th>\n      <td>9900285854</td>\n      <td>Annual (San Antonio B-cycle)</td>\n      <td>207.00</td>\n      <td>2537.00</td>\n      <td>West &amp; 6th St.</td>\n      <td>2707.00</td>\n      <td>Rainey St @ Cummings</td>\n      <td>76</td>\n      <td>2014-10-26 13:12:00</td>\n      <td>30.27</td>\n      <td>-97.75</td>\n      <td>30.26</td>\n      <td>-97.74</td>\n    </tr>\n    <tr>\n      <th>1</th>\n      <td>9900288020</td>\n      <td>24-Hour Kiosk (Austin B-cycle)</td>\n      <td>190.00</td>\n      <td>2537.00</td>\n      <td>West &amp; 6th St.</td>\n      <td>2707.00</td>\n      <td>Rainey St @ Cummings</td>\n      <td>12</td>\n      <td>2014-10-30 19:12:00</td>\n      <td>30.27</td>\n      <td>-97.75</td>\n      <td>30.26</td>\n      <td>-97.74</td>\n    </tr>\n    <tr>\n      <th>2</th>\n      <td>9900289011</td>\n      <td>Local365</td>\n      <td>190.00</td>\n      <td>2537.00</td>\n      <td>West &amp; 6th St.</td>\n      <td>2707.00</td>\n      <td>Rainey St @ Cummings</td>\n      <td>9</td>\n      <td>2015-10-01 19:12:27</td>\n      <td>30.27</td>\n      <td>-97.75</td>\n      <td>30.26</td>\n      <td>-97.74</td>\n    </tr>\n    <tr>\n      <th>3</th>\n      <td>9900292552</td>\n      <td>Walk Up</td>\n      <td>354.00</td>\n      <td>2537.00</td>\n      <td>West &amp; 6th St.</td>\n      <td>2707.00</td>\n      <td>Rainey St @ Cummings</td>\n      <td>14</td>\n      <td>2015-10-04 13:12:41</td>\n      <td>30.27</td>\n      <td>-97.75</td>\n      <td>30.26</td>\n      <td>-97.74</td>\n    </tr>\n    <tr>\n      <th>4</th>\n      <td>9900293709</td>\n      <td>Local365</td>\n      <td>20.00</td>\n      <td>2537.00</td>\n      <td>West &amp; 6th St.</td>\n      <td>2707.00</td>\n      <td>Rainey St @ Cummings</td>\n      <td>11</td>\n      <td>2015-10-04 13:12:56</td>\n      <td>30.27</td>\n      <td>-97.75</td>\n      <td>30.26</td>\n      <td>-97.74</td>\n    </tr>\n  </tbody>\n</table>\n</div>",
            "text/plain": "      Trip ID                 Membership Type  Bicycle ID  Checkout Kiosk ID  \\\n0  9900285854    Annual (San Antonio B-cycle)      207.00            2537.00   \n1  9900288020  24-Hour Kiosk (Austin B-cycle)      190.00            2537.00   \n2  9900289011                        Local365      190.00            2537.00   \n3  9900292552                         Walk Up      354.00            2537.00   \n4  9900293709                        Local365       20.00            2537.00   \n\n   Checkout Kiosk  Return Kiosk ID          Return Kiosk  \\\n0  West & 6th St.          2707.00  Rainey St @ Cummings   \n1  West & 6th St.          2707.00  Rainey St @ Cummings   \n2  West & 6th St.          2707.00  Rainey St @ Cummings   \n3  West & 6th St.          2707.00  Rainey St @ Cummings   \n4  West & 6th St.          2707.00  Rainey St @ Cummings   \n\n   Trip Duration Minutes    Checkout DateTime  Checkout Latitude  \\\n0                     76  2014-10-26 13:12:00              30.27   \n1                     12  2014-10-30 19:12:00              30.27   \n2                      9  2015-10-01 19:12:27              30.27   \n3                     14  2015-10-04 13:12:41              30.27   \n4                     11  2015-10-04 13:12:56              30.27   \n\n   Checkout Longitude  Return Latitude  Return Longitude  \n0              -97.75            30.26            -97.74  \n1              -97.75            30.26            -97.74  \n2              -97.75            30.26            -97.74  \n3              -97.75            30.26            -97.74  \n4              -97.75            30.26            -97.74  "
          },
          "metadata": {}
        }
      ]
    },
    {
      "metadata": {
        "trusted": true
      },
      "cell_type": "code",
      "source": "df.info(())",
      "execution_count": 39,
      "outputs": [
        {
          "output_type": "stream",
          "text": "<class 'pandas.core.frame.DataFrame'>\nRangeIndex: 1027711 entries, 0 to 1027710\nData columns (total 13 columns):\nTrip ID                  1027711 non-null int64\nMembership Type          1027711 non-null object\nBicycle ID               1027711 non-null float64\nCheckout Kiosk ID        1027711 non-null float64\nCheckout Kiosk           1027711 non-null object\nReturn Kiosk ID          1027711 non-null float64\nReturn Kiosk             1027711 non-null object\nTrip Duration Minutes    1027711 non-null int64\nCheckout DateTime        1027711 non-null object\nCheckout Latitude        1027711 non-null float64\nCheckout Longitude       1027711 non-null float64\nReturn Latitude          1027711 non-null float64\nReturn Longitude         1027711 non-null float64\ndtypes: float64(7), int64(2), object(4)\nmemory usage: 101.9+ MB\n",
          "name": "stdout"
        }
      ]
    },
    {
      "metadata": {},
      "cell_type": "markdown",
      "source": "##  Get the hour when a bike left"
    },
    {
      "metadata": {
        "trusted": true
      },
      "cell_type": "code",
      "source": "# Convert the checkout datetime from string to an actual date-time object.\ndf['Checkout DateTime'] = pd.to_datetime(df['Checkout DateTime'])",
      "execution_count": 40,
      "outputs": []
    },
    {
      "metadata": {
        "trusted": true
      },
      "cell_type": "code",
      "source": "# Checkout datetime is now a datetime\ndf.head()",
      "execution_count": 41,
      "outputs": [
        {
          "output_type": "execute_result",
          "execution_count": 41,
          "data": {
            "text/html": "<div>\n<style scoped>\n    .dataframe tbody tr th:only-of-type {\n        vertical-align: middle;\n    }\n\n    .dataframe tbody tr th {\n        vertical-align: top;\n    }\n\n    .dataframe thead th {\n        text-align: right;\n    }\n</style>\n<table border=\"1\" class=\"dataframe\">\n  <thead>\n    <tr style=\"text-align: right;\">\n      <th></th>\n      <th>Trip ID</th>\n      <th>Membership Type</th>\n      <th>Bicycle ID</th>\n      <th>Checkout Kiosk ID</th>\n      <th>Checkout Kiosk</th>\n      <th>Return Kiosk ID</th>\n      <th>Return Kiosk</th>\n      <th>Trip Duration Minutes</th>\n      <th>Checkout DateTime</th>\n      <th>Checkout Latitude</th>\n      <th>Checkout Longitude</th>\n      <th>Return Latitude</th>\n      <th>Return Longitude</th>\n    </tr>\n  </thead>\n  <tbody>\n    <tr>\n      <th>0</th>\n      <td>9900285854</td>\n      <td>Annual (San Antonio B-cycle)</td>\n      <td>207.00</td>\n      <td>2537.00</td>\n      <td>West &amp; 6th St.</td>\n      <td>2707.00</td>\n      <td>Rainey St @ Cummings</td>\n      <td>76</td>\n      <td>2014-10-26 13:12:00</td>\n      <td>30.27</td>\n      <td>-97.75</td>\n      <td>30.26</td>\n      <td>-97.74</td>\n    </tr>\n    <tr>\n      <th>1</th>\n      <td>9900288020</td>\n      <td>24-Hour Kiosk (Austin B-cycle)</td>\n      <td>190.00</td>\n      <td>2537.00</td>\n      <td>West &amp; 6th St.</td>\n      <td>2707.00</td>\n      <td>Rainey St @ Cummings</td>\n      <td>12</td>\n      <td>2014-10-30 19:12:00</td>\n      <td>30.27</td>\n      <td>-97.75</td>\n      <td>30.26</td>\n      <td>-97.74</td>\n    </tr>\n    <tr>\n      <th>2</th>\n      <td>9900289011</td>\n      <td>Local365</td>\n      <td>190.00</td>\n      <td>2537.00</td>\n      <td>West &amp; 6th St.</td>\n      <td>2707.00</td>\n      <td>Rainey St @ Cummings</td>\n      <td>9</td>\n      <td>2015-10-01 19:12:27</td>\n      <td>30.27</td>\n      <td>-97.75</td>\n      <td>30.26</td>\n      <td>-97.74</td>\n    </tr>\n    <tr>\n      <th>3</th>\n      <td>9900292552</td>\n      <td>Walk Up</td>\n      <td>354.00</td>\n      <td>2537.00</td>\n      <td>West &amp; 6th St.</td>\n      <td>2707.00</td>\n      <td>Rainey St @ Cummings</td>\n      <td>14</td>\n      <td>2015-10-04 13:12:41</td>\n      <td>30.27</td>\n      <td>-97.75</td>\n      <td>30.26</td>\n      <td>-97.74</td>\n    </tr>\n    <tr>\n      <th>4</th>\n      <td>9900293709</td>\n      <td>Local365</td>\n      <td>20.00</td>\n      <td>2537.00</td>\n      <td>West &amp; 6th St.</td>\n      <td>2707.00</td>\n      <td>Rainey St @ Cummings</td>\n      <td>11</td>\n      <td>2015-10-04 13:12:56</td>\n      <td>30.27</td>\n      <td>-97.75</td>\n      <td>30.26</td>\n      <td>-97.74</td>\n    </tr>\n  </tbody>\n</table>\n</div>",
            "text/plain": "      Trip ID                 Membership Type  Bicycle ID  Checkout Kiosk ID  \\\n0  9900285854    Annual (San Antonio B-cycle)      207.00            2537.00   \n1  9900288020  24-Hour Kiosk (Austin B-cycle)      190.00            2537.00   \n2  9900289011                        Local365      190.00            2537.00   \n3  9900292552                         Walk Up      354.00            2537.00   \n4  9900293709                        Local365       20.00            2537.00   \n\n   Checkout Kiosk  Return Kiosk ID          Return Kiosk  \\\n0  West & 6th St.          2707.00  Rainey St @ Cummings   \n1  West & 6th St.          2707.00  Rainey St @ Cummings   \n2  West & 6th St.          2707.00  Rainey St @ Cummings   \n3  West & 6th St.          2707.00  Rainey St @ Cummings   \n4  West & 6th St.          2707.00  Rainey St @ Cummings   \n\n   Trip Duration Minutes   Checkout DateTime  Checkout Latitude  \\\n0                     76 2014-10-26 13:12:00              30.27   \n1                     12 2014-10-30 19:12:00              30.27   \n2                      9 2015-10-01 19:12:27              30.27   \n3                     14 2015-10-04 13:12:41              30.27   \n4                     11 2015-10-04 13:12:56              30.27   \n\n   Checkout Longitude  Return Latitude  Return Longitude  \n0              -97.75            30.26            -97.74  \n1              -97.75            30.26            -97.74  \n2              -97.75            30.26            -97.74  \n3              -97.75            30.26            -97.74  \n4              -97.75            30.26            -97.74  "
          },
          "metadata": {}
        }
      ]
    },
    {
      "metadata": {
        "trusted": true
      },
      "cell_type": "code",
      "source": "# Get the checkout year, month, day, hour\ndf['Checkout Hour'] = df['Checkout DateTime'].apply(lambda x : x.hour)\ndf['Checkout Day'] = df['Checkout DateTime'].apply(lambda x: x.day)\ndf['Checkout Month'] = df['Checkout DateTime'].apply(lambda x: x.month)\ndf['Checkout Year'] = df['Checkout DateTime'].apply(lambda x: x.year)\n",
      "execution_count": 42,
      "outputs": []
    },
    {
      "metadata": {
        "trusted": true,
        "scrolled": true
      },
      "cell_type": "code",
      "source": "df.head()",
      "execution_count": 43,
      "outputs": [
        {
          "output_type": "execute_result",
          "execution_count": 43,
          "data": {
            "text/html": "<div>\n<style scoped>\n    .dataframe tbody tr th:only-of-type {\n        vertical-align: middle;\n    }\n\n    .dataframe tbody tr th {\n        vertical-align: top;\n    }\n\n    .dataframe thead th {\n        text-align: right;\n    }\n</style>\n<table border=\"1\" class=\"dataframe\">\n  <thead>\n    <tr style=\"text-align: right;\">\n      <th></th>\n      <th>Trip ID</th>\n      <th>Membership Type</th>\n      <th>Bicycle ID</th>\n      <th>Checkout Kiosk ID</th>\n      <th>Checkout Kiosk</th>\n      <th>Return Kiosk ID</th>\n      <th>Return Kiosk</th>\n      <th>Trip Duration Minutes</th>\n      <th>Checkout DateTime</th>\n      <th>Checkout Latitude</th>\n      <th>Checkout Longitude</th>\n      <th>Return Latitude</th>\n      <th>Return Longitude</th>\n      <th>Checkout Hour</th>\n      <th>Checkout Day</th>\n      <th>Checkout Month</th>\n      <th>Checkout Year</th>\n    </tr>\n  </thead>\n  <tbody>\n    <tr>\n      <th>0</th>\n      <td>9900285854</td>\n      <td>Annual (San Antonio B-cycle)</td>\n      <td>207.00</td>\n      <td>2537.00</td>\n      <td>West &amp; 6th St.</td>\n      <td>2707.00</td>\n      <td>Rainey St @ Cummings</td>\n      <td>76</td>\n      <td>2014-10-26 13:12:00</td>\n      <td>30.27</td>\n      <td>-97.75</td>\n      <td>30.26</td>\n      <td>-97.74</td>\n      <td>13</td>\n      <td>26</td>\n      <td>10</td>\n      <td>2014</td>\n    </tr>\n    <tr>\n      <th>1</th>\n      <td>9900288020</td>\n      <td>24-Hour Kiosk (Austin B-cycle)</td>\n      <td>190.00</td>\n      <td>2537.00</td>\n      <td>West &amp; 6th St.</td>\n      <td>2707.00</td>\n      <td>Rainey St @ Cummings</td>\n      <td>12</td>\n      <td>2014-10-30 19:12:00</td>\n      <td>30.27</td>\n      <td>-97.75</td>\n      <td>30.26</td>\n      <td>-97.74</td>\n      <td>19</td>\n      <td>30</td>\n      <td>10</td>\n      <td>2014</td>\n    </tr>\n    <tr>\n      <th>2</th>\n      <td>9900289011</td>\n      <td>Local365</td>\n      <td>190.00</td>\n      <td>2537.00</td>\n      <td>West &amp; 6th St.</td>\n      <td>2707.00</td>\n      <td>Rainey St @ Cummings</td>\n      <td>9</td>\n      <td>2015-10-01 19:12:27</td>\n      <td>30.27</td>\n      <td>-97.75</td>\n      <td>30.26</td>\n      <td>-97.74</td>\n      <td>19</td>\n      <td>1</td>\n      <td>10</td>\n      <td>2015</td>\n    </tr>\n    <tr>\n      <th>3</th>\n      <td>9900292552</td>\n      <td>Walk Up</td>\n      <td>354.00</td>\n      <td>2537.00</td>\n      <td>West &amp; 6th St.</td>\n      <td>2707.00</td>\n      <td>Rainey St @ Cummings</td>\n      <td>14</td>\n      <td>2015-10-04 13:12:41</td>\n      <td>30.27</td>\n      <td>-97.75</td>\n      <td>30.26</td>\n      <td>-97.74</td>\n      <td>13</td>\n      <td>4</td>\n      <td>10</td>\n      <td>2015</td>\n    </tr>\n    <tr>\n      <th>4</th>\n      <td>9900293709</td>\n      <td>Local365</td>\n      <td>20.00</td>\n      <td>2537.00</td>\n      <td>West &amp; 6th St.</td>\n      <td>2707.00</td>\n      <td>Rainey St @ Cummings</td>\n      <td>11</td>\n      <td>2015-10-04 13:12:56</td>\n      <td>30.27</td>\n      <td>-97.75</td>\n      <td>30.26</td>\n      <td>-97.74</td>\n      <td>13</td>\n      <td>4</td>\n      <td>10</td>\n      <td>2015</td>\n    </tr>\n  </tbody>\n</table>\n</div>",
            "text/plain": "      Trip ID                 Membership Type  Bicycle ID  Checkout Kiosk ID  \\\n0  9900285854    Annual (San Antonio B-cycle)      207.00            2537.00   \n1  9900288020  24-Hour Kiosk (Austin B-cycle)      190.00            2537.00   \n2  9900289011                        Local365      190.00            2537.00   \n3  9900292552                         Walk Up      354.00            2537.00   \n4  9900293709                        Local365       20.00            2537.00   \n\n   Checkout Kiosk  Return Kiosk ID          Return Kiosk  \\\n0  West & 6th St.          2707.00  Rainey St @ Cummings   \n1  West & 6th St.          2707.00  Rainey St @ Cummings   \n2  West & 6th St.          2707.00  Rainey St @ Cummings   \n3  West & 6th St.          2707.00  Rainey St @ Cummings   \n4  West & 6th St.          2707.00  Rainey St @ Cummings   \n\n   Trip Duration Minutes   Checkout DateTime  Checkout Latitude  \\\n0                     76 2014-10-26 13:12:00              30.27   \n1                     12 2014-10-30 19:12:00              30.27   \n2                      9 2015-10-01 19:12:27              30.27   \n3                     14 2015-10-04 13:12:41              30.27   \n4                     11 2015-10-04 13:12:56              30.27   \n\n   Checkout Longitude  Return Latitude  Return Longitude  Checkout Hour  \\\n0              -97.75            30.26            -97.74             13   \n1              -97.75            30.26            -97.74             19   \n2              -97.75            30.26            -97.74             19   \n3              -97.75            30.26            -97.74             13   \n4              -97.75            30.26            -97.74             13   \n\n   Checkout Day  Checkout Month  Checkout Year  \n0            26              10           2014  \n1            30              10           2014  \n2             1              10           2015  \n3             4              10           2015  \n4             4              10           2015  "
          },
          "metadata": {}
        }
      ]
    },
    {
      "metadata": {
        "trusted": true
      },
      "cell_type": "code",
      "source": "bikes_left = df.groupby(['Checkout Kiosk ID','Checkout Year','Checkout Month','Checkout Day','Checkout Hour'],sort=False).size().reset_index(name='Count')\nbikes_left = bikes_left.drop(columns=['Checkout Year','Checkout Month','Checkout Day'])\nbikes_left = bikes_left.dropna()\n\nbikes_arriving = df.groupby(['Return Kiosk ID','Checkout Year','Checkout Month','Checkout Day','Checkout Hour'],sort=False).size().reset_index(name='Count')\nbikes_arriving = bikes_arriving.drop(columns=['Checkout Year','Checkout Month','Checkout Day'])\nbikes_arriving = bikes_arriving.dropna()",
      "execution_count": 44,
      "outputs": []
    },
    {
      "metadata": {
        "trusted": true
      },
      "cell_type": "code",
      "source": "bikes_left.head()",
      "execution_count": 45,
      "outputs": [
        {
          "output_type": "execute_result",
          "execution_count": 45,
          "data": {
            "text/html": "<div>\n<style scoped>\n    .dataframe tbody tr th:only-of-type {\n        vertical-align: middle;\n    }\n\n    .dataframe tbody tr th {\n        vertical-align: top;\n    }\n\n    .dataframe thead th {\n        text-align: right;\n    }\n</style>\n<table border=\"1\" class=\"dataframe\">\n  <thead>\n    <tr style=\"text-align: right;\">\n      <th></th>\n      <th>Checkout Kiosk ID</th>\n      <th>Checkout Hour</th>\n      <th>Count</th>\n    </tr>\n  </thead>\n  <tbody>\n    <tr>\n      <th>0</th>\n      <td>2537.00</td>\n      <td>13</td>\n      <td>3</td>\n    </tr>\n    <tr>\n      <th>1</th>\n      <td>2537.00</td>\n      <td>19</td>\n      <td>3</td>\n    </tr>\n    <tr>\n      <th>2</th>\n      <td>2537.00</td>\n      <td>19</td>\n      <td>7</td>\n    </tr>\n    <tr>\n      <th>3</th>\n      <td>2537.00</td>\n      <td>13</td>\n      <td>3</td>\n    </tr>\n    <tr>\n      <th>4</th>\n      <td>2537.00</td>\n      <td>17</td>\n      <td>1</td>\n    </tr>\n  </tbody>\n</table>\n</div>",
            "text/plain": "   Checkout Kiosk ID  Checkout Hour  Count\n0            2537.00             13      3\n1            2537.00             19      3\n2            2537.00             19      7\n3            2537.00             13      3\n4            2537.00             17      1"
          },
          "metadata": {}
        }
      ]
    },
    {
      "metadata": {
        "trusted": true
      },
      "cell_type": "code",
      "source": "bikes_left.info()",
      "execution_count": 46,
      "outputs": [
        {
          "output_type": "stream",
          "text": "<class 'pandas.core.frame.DataFrame'>\nInt64Index: 420261 entries, 0 to 420260\nData columns (total 3 columns):\nCheckout Kiosk ID    420261 non-null float64\nCheckout Hour        420261 non-null int64\nCount                420261 non-null int64\ndtypes: float64(1), int64(2)\nmemory usage: 12.8 MB\n",
          "name": "stdout"
        }
      ]
    },
    {
      "metadata": {
        "trusted": true
      },
      "cell_type": "code",
      "source": "bikes_left[\"Checkout Kiosk ID\"] = bikes_left[\"Checkout Kiosk ID\"].astype('category')\nbikes_arriving[\"Return Kiosk ID\"] = bikes_arriving[\"Return Kiosk ID\"].astype('category')\nbikes_left.info()",
      "execution_count": 47,
      "outputs": [
        {
          "output_type": "stream",
          "text": "<class 'pandas.core.frame.DataFrame'>\nInt64Index: 420261 entries, 0 to 420260\nData columns (total 3 columns):\nCheckout Kiosk ID    420261 non-null category\nCheckout Hour        420261 non-null int64\nCount                420261 non-null int64\ndtypes: category(1), int64(2)\nmemory usage: 10.0 MB\n",
          "name": "stdout"
        }
      ]
    },
    {
      "metadata": {
        "trusted": true
      },
      "cell_type": "code",
      "source": "# Convert categorical variable into dummy/indicator variables\nbikes_left = pd.get_dummies(bikes_left)\nbikes_arriving = pd.get_dummies(bikes_arriving)",
      "execution_count": 48,
      "outputs": []
    },
    {
      "metadata": {
        "trusted": true,
        "scrolled": true
      },
      "cell_type": "code",
      "source": "bikes_left.head()",
      "execution_count": 49,
      "outputs": [
        {
          "output_type": "execute_result",
          "execution_count": 49,
          "data": {
            "text/html": "<div>\n<style scoped>\n    .dataframe tbody tr th:only-of-type {\n        vertical-align: middle;\n    }\n\n    .dataframe tbody tr th {\n        vertical-align: top;\n    }\n\n    .dataframe thead th {\n        text-align: right;\n    }\n</style>\n<table border=\"1\" class=\"dataframe\">\n  <thead>\n    <tr style=\"text-align: right;\">\n      <th></th>\n      <th>Checkout Hour</th>\n      <th>Count</th>\n      <th>Checkout Kiosk ID_1001.0</th>\n      <th>Checkout Kiosk ID_1002.0</th>\n      <th>Checkout Kiosk ID_1003.0</th>\n      <th>Checkout Kiosk ID_1005.0</th>\n      <th>Checkout Kiosk ID_1006.0</th>\n      <th>Checkout Kiosk ID_1007.0</th>\n      <th>Checkout Kiosk ID_1008.0</th>\n      <th>Checkout Kiosk ID_2494.0</th>\n      <th>...</th>\n      <th>Checkout Kiosk ID_4051.0</th>\n      <th>Checkout Kiosk ID_4052.0</th>\n      <th>Checkout Kiosk ID_4054.0</th>\n      <th>Checkout Kiosk ID_4055.0</th>\n      <th>Checkout Kiosk ID_4057.0</th>\n      <th>Checkout Kiosk ID_4058.0</th>\n      <th>Checkout Kiosk ID_4059.0</th>\n      <th>Checkout Kiosk ID_4060.0</th>\n      <th>Checkout Kiosk ID_4061.0</th>\n      <th>Checkout Kiosk ID_4062.0</th>\n    </tr>\n  </thead>\n  <tbody>\n    <tr>\n      <th>0</th>\n      <td>13</td>\n      <td>3</td>\n      <td>0</td>\n      <td>0</td>\n      <td>0</td>\n      <td>0</td>\n      <td>0</td>\n      <td>0</td>\n      <td>0</td>\n      <td>0</td>\n      <td>...</td>\n      <td>0</td>\n      <td>0</td>\n      <td>0</td>\n      <td>0</td>\n      <td>0</td>\n      <td>0</td>\n      <td>0</td>\n      <td>0</td>\n      <td>0</td>\n      <td>0</td>\n    </tr>\n    <tr>\n      <th>1</th>\n      <td>19</td>\n      <td>3</td>\n      <td>0</td>\n      <td>0</td>\n      <td>0</td>\n      <td>0</td>\n      <td>0</td>\n      <td>0</td>\n      <td>0</td>\n      <td>0</td>\n      <td>...</td>\n      <td>0</td>\n      <td>0</td>\n      <td>0</td>\n      <td>0</td>\n      <td>0</td>\n      <td>0</td>\n      <td>0</td>\n      <td>0</td>\n      <td>0</td>\n      <td>0</td>\n    </tr>\n    <tr>\n      <th>2</th>\n      <td>19</td>\n      <td>7</td>\n      <td>0</td>\n      <td>0</td>\n      <td>0</td>\n      <td>0</td>\n      <td>0</td>\n      <td>0</td>\n      <td>0</td>\n      <td>0</td>\n      <td>...</td>\n      <td>0</td>\n      <td>0</td>\n      <td>0</td>\n      <td>0</td>\n      <td>0</td>\n      <td>0</td>\n      <td>0</td>\n      <td>0</td>\n      <td>0</td>\n      <td>0</td>\n    </tr>\n    <tr>\n      <th>3</th>\n      <td>13</td>\n      <td>3</td>\n      <td>0</td>\n      <td>0</td>\n      <td>0</td>\n      <td>0</td>\n      <td>0</td>\n      <td>0</td>\n      <td>0</td>\n      <td>0</td>\n      <td>...</td>\n      <td>0</td>\n      <td>0</td>\n      <td>0</td>\n      <td>0</td>\n      <td>0</td>\n      <td>0</td>\n      <td>0</td>\n      <td>0</td>\n      <td>0</td>\n      <td>0</td>\n    </tr>\n    <tr>\n      <th>4</th>\n      <td>17</td>\n      <td>1</td>\n      <td>0</td>\n      <td>0</td>\n      <td>0</td>\n      <td>0</td>\n      <td>0</td>\n      <td>0</td>\n      <td>0</td>\n      <td>0</td>\n      <td>...</td>\n      <td>0</td>\n      <td>0</td>\n      <td>0</td>\n      <td>0</td>\n      <td>0</td>\n      <td>0</td>\n      <td>0</td>\n      <td>0</td>\n      <td>0</td>\n      <td>0</td>\n    </tr>\n  </tbody>\n</table>\n<p>5 rows × 97 columns</p>\n</div>",
            "text/plain": "   Checkout Hour  Count  Checkout Kiosk ID_1001.0  Checkout Kiosk ID_1002.0  \\\n0             13      3                         0                         0   \n1             19      3                         0                         0   \n2             19      7                         0                         0   \n3             13      3                         0                         0   \n4             17      1                         0                         0   \n\n   Checkout Kiosk ID_1003.0  Checkout Kiosk ID_1005.0  \\\n0                         0                         0   \n1                         0                         0   \n2                         0                         0   \n3                         0                         0   \n4                         0                         0   \n\n   Checkout Kiosk ID_1006.0  Checkout Kiosk ID_1007.0  \\\n0                         0                         0   \n1                         0                         0   \n2                         0                         0   \n3                         0                         0   \n4                         0                         0   \n\n   Checkout Kiosk ID_1008.0  Checkout Kiosk ID_2494.0  \\\n0                         0                         0   \n1                         0                         0   \n2                         0                         0   \n3                         0                         0   \n4                         0                         0   \n\n             ...             Checkout Kiosk ID_4051.0  \\\n0            ...                                    0   \n1            ...                                    0   \n2            ...                                    0   \n3            ...                                    0   \n4            ...                                    0   \n\n   Checkout Kiosk ID_4052.0  Checkout Kiosk ID_4054.0  \\\n0                         0                         0   \n1                         0                         0   \n2                         0                         0   \n3                         0                         0   \n4                         0                         0   \n\n   Checkout Kiosk ID_4055.0  Checkout Kiosk ID_4057.0  \\\n0                         0                         0   \n1                         0                         0   \n2                         0                         0   \n3                         0                         0   \n4                         0                         0   \n\n   Checkout Kiosk ID_4058.0  Checkout Kiosk ID_4059.0  \\\n0                         0                         0   \n1                         0                         0   \n2                         0                         0   \n3                         0                         0   \n4                         0                         0   \n\n   Checkout Kiosk ID_4060.0  Checkout Kiosk ID_4061.0  \\\n0                         0                         0   \n1                         0                         0   \n2                         0                         0   \n3                         0                         0   \n4                         0                         0   \n\n   Checkout Kiosk ID_4062.0  \n0                         0  \n1                         0  \n2                         0  \n3                         0  \n4                         0  \n\n[5 rows x 97 columns]"
          },
          "metadata": {}
        }
      ]
    },
    {
      "metadata": {
        "trusted": true
      },
      "cell_type": "code",
      "source": "len(bikes_left)",
      "execution_count": 50,
      "outputs": [
        {
          "output_type": "execute_result",
          "execution_count": 50,
          "data": {
            "text/plain": "420261"
          },
          "metadata": {}
        }
      ]
    },
    {
      "metadata": {
        "trusted": true
      },
      "cell_type": "markdown",
      "source": "## Get the training and testing data"
    },
    {
      "metadata": {
        "trusted": true
      },
      "cell_type": "code",
      "source": "X = bikes_left.drop(columns=['Count'])\nY = bikes_left.loc[:,['Count']]",
      "execution_count": 51,
      "outputs": []
    },
    {
      "metadata": {
        "trusted": true
      },
      "cell_type": "code",
      "source": "X.head()",
      "execution_count": 52,
      "outputs": [
        {
          "output_type": "execute_result",
          "execution_count": 52,
          "data": {
            "text/html": "<div>\n<style scoped>\n    .dataframe tbody tr th:only-of-type {\n        vertical-align: middle;\n    }\n\n    .dataframe tbody tr th {\n        vertical-align: top;\n    }\n\n    .dataframe thead th {\n        text-align: right;\n    }\n</style>\n<table border=\"1\" class=\"dataframe\">\n  <thead>\n    <tr style=\"text-align: right;\">\n      <th></th>\n      <th>Checkout Hour</th>\n      <th>Checkout Kiosk ID_1001.0</th>\n      <th>Checkout Kiosk ID_1002.0</th>\n      <th>Checkout Kiosk ID_1003.0</th>\n      <th>Checkout Kiosk ID_1005.0</th>\n      <th>Checkout Kiosk ID_1006.0</th>\n      <th>Checkout Kiosk ID_1007.0</th>\n      <th>Checkout Kiosk ID_1008.0</th>\n      <th>Checkout Kiosk ID_2494.0</th>\n      <th>Checkout Kiosk ID_2495.0</th>\n      <th>...</th>\n      <th>Checkout Kiosk ID_4051.0</th>\n      <th>Checkout Kiosk ID_4052.0</th>\n      <th>Checkout Kiosk ID_4054.0</th>\n      <th>Checkout Kiosk ID_4055.0</th>\n      <th>Checkout Kiosk ID_4057.0</th>\n      <th>Checkout Kiosk ID_4058.0</th>\n      <th>Checkout Kiosk ID_4059.0</th>\n      <th>Checkout Kiosk ID_4060.0</th>\n      <th>Checkout Kiosk ID_4061.0</th>\n      <th>Checkout Kiosk ID_4062.0</th>\n    </tr>\n  </thead>\n  <tbody>\n    <tr>\n      <th>0</th>\n      <td>13</td>\n      <td>0</td>\n      <td>0</td>\n      <td>0</td>\n      <td>0</td>\n      <td>0</td>\n      <td>0</td>\n      <td>0</td>\n      <td>0</td>\n      <td>0</td>\n      <td>...</td>\n      <td>0</td>\n      <td>0</td>\n      <td>0</td>\n      <td>0</td>\n      <td>0</td>\n      <td>0</td>\n      <td>0</td>\n      <td>0</td>\n      <td>0</td>\n      <td>0</td>\n    </tr>\n    <tr>\n      <th>1</th>\n      <td>19</td>\n      <td>0</td>\n      <td>0</td>\n      <td>0</td>\n      <td>0</td>\n      <td>0</td>\n      <td>0</td>\n      <td>0</td>\n      <td>0</td>\n      <td>0</td>\n      <td>...</td>\n      <td>0</td>\n      <td>0</td>\n      <td>0</td>\n      <td>0</td>\n      <td>0</td>\n      <td>0</td>\n      <td>0</td>\n      <td>0</td>\n      <td>0</td>\n      <td>0</td>\n    </tr>\n    <tr>\n      <th>2</th>\n      <td>19</td>\n      <td>0</td>\n      <td>0</td>\n      <td>0</td>\n      <td>0</td>\n      <td>0</td>\n      <td>0</td>\n      <td>0</td>\n      <td>0</td>\n      <td>0</td>\n      <td>...</td>\n      <td>0</td>\n      <td>0</td>\n      <td>0</td>\n      <td>0</td>\n      <td>0</td>\n      <td>0</td>\n      <td>0</td>\n      <td>0</td>\n      <td>0</td>\n      <td>0</td>\n    </tr>\n    <tr>\n      <th>3</th>\n      <td>13</td>\n      <td>0</td>\n      <td>0</td>\n      <td>0</td>\n      <td>0</td>\n      <td>0</td>\n      <td>0</td>\n      <td>0</td>\n      <td>0</td>\n      <td>0</td>\n      <td>...</td>\n      <td>0</td>\n      <td>0</td>\n      <td>0</td>\n      <td>0</td>\n      <td>0</td>\n      <td>0</td>\n      <td>0</td>\n      <td>0</td>\n      <td>0</td>\n      <td>0</td>\n    </tr>\n    <tr>\n      <th>4</th>\n      <td>17</td>\n      <td>0</td>\n      <td>0</td>\n      <td>0</td>\n      <td>0</td>\n      <td>0</td>\n      <td>0</td>\n      <td>0</td>\n      <td>0</td>\n      <td>0</td>\n      <td>...</td>\n      <td>0</td>\n      <td>0</td>\n      <td>0</td>\n      <td>0</td>\n      <td>0</td>\n      <td>0</td>\n      <td>0</td>\n      <td>0</td>\n      <td>0</td>\n      <td>0</td>\n    </tr>\n  </tbody>\n</table>\n<p>5 rows × 96 columns</p>\n</div>",
            "text/plain": "   Checkout Hour  Checkout Kiosk ID_1001.0  Checkout Kiosk ID_1002.0  \\\n0             13                         0                         0   \n1             19                         0                         0   \n2             19                         0                         0   \n3             13                         0                         0   \n4             17                         0                         0   \n\n   Checkout Kiosk ID_1003.0  Checkout Kiosk ID_1005.0  \\\n0                         0                         0   \n1                         0                         0   \n2                         0                         0   \n3                         0                         0   \n4                         0                         0   \n\n   Checkout Kiosk ID_1006.0  Checkout Kiosk ID_1007.0  \\\n0                         0                         0   \n1                         0                         0   \n2                         0                         0   \n3                         0                         0   \n4                         0                         0   \n\n   Checkout Kiosk ID_1008.0  Checkout Kiosk ID_2494.0  \\\n0                         0                         0   \n1                         0                         0   \n2                         0                         0   \n3                         0                         0   \n4                         0                         0   \n\n   Checkout Kiosk ID_2495.0            ...             \\\n0                         0            ...              \n1                         0            ...              \n2                         0            ...              \n3                         0            ...              \n4                         0            ...              \n\n   Checkout Kiosk ID_4051.0  Checkout Kiosk ID_4052.0  \\\n0                         0                         0   \n1                         0                         0   \n2                         0                         0   \n3                         0                         0   \n4                         0                         0   \n\n   Checkout Kiosk ID_4054.0  Checkout Kiosk ID_4055.0  \\\n0                         0                         0   \n1                         0                         0   \n2                         0                         0   \n3                         0                         0   \n4                         0                         0   \n\n   Checkout Kiosk ID_4057.0  Checkout Kiosk ID_4058.0  \\\n0                         0                         0   \n1                         0                         0   \n2                         0                         0   \n3                         0                         0   \n4                         0                         0   \n\n   Checkout Kiosk ID_4059.0  Checkout Kiosk ID_4060.0  \\\n0                         0                         0   \n1                         0                         0   \n2                         0                         0   \n3                         0                         0   \n4                         0                         0   \n\n   Checkout Kiosk ID_4061.0  Checkout Kiosk ID_4062.0  \n0                         0                         0  \n1                         0                         0  \n2                         0                         0  \n3                         0                         0  \n4                         0                         0  \n\n[5 rows x 96 columns]"
          },
          "metadata": {}
        }
      ]
    },
    {
      "metadata": {
        "trusted": true
      },
      "cell_type": "code",
      "source": "len(Y)",
      "execution_count": 53,
      "outputs": [
        {
          "output_type": "execute_result",
          "execution_count": 53,
          "data": {
            "text/plain": "420261"
          },
          "metadata": {}
        }
      ]
    },
    {
      "metadata": {
        "trusted": true
      },
      "cell_type": "code",
      "source": "from sklearn.model_selection import train_test_split\n\n\nx_train, x_test, y_train, y_test = train_test_split(X, Y, test_size=0.2, random_state=223)\n# flatten y_train to 1d array\ny_train.values.flatten()",
      "execution_count": 54,
      "outputs": [
        {
          "output_type": "execute_result",
          "execution_count": 54,
          "data": {
            "text/plain": "array([1, 1, 1, ..., 4, 1, 1])"
          },
          "metadata": {}
        }
      ]
    },
    {
      "metadata": {},
      "cell_type": "markdown",
      "source": "## Model Training Using Azure AutoML"
    },
    {
      "metadata": {
        "trusted": true
      },
      "cell_type": "code",
      "source": "import azureml.core\nimport pandas as pd\nfrom azureml.core.workspace import Workspace\nimport logging\nimport os",
      "execution_count": 55,
      "outputs": []
    },
    {
      "metadata": {
        "trusted": true
      },
      "cell_type": "code",
      "source": "#ws = Workspace.create(\"datahack-workspace\", subscription_id=\"a0005a02-eceb-4ae6-866c-c8fcbec43ea7\",resource_group=\"Datahack2019\",location='eastus')\nexperiment_name = 'automated-ml-regression'\n# project folder\nproject_folder = './automated-ml-regression'\n\noutput = {}\noutput['SDK version'] = azureml.core.VERSION\noutput['Subscription ID'] = ws.subscription_id\noutput['Workspace'] = ws.name\noutput['Resource Group'] = ws.resource_group\noutput['Location'] = ws.location\noutput['Project Directory'] = project_folder\npd.set_option('display.max_colwidth', -1)\npd.DataFrame(data=output, index=['']).T",
      "execution_count": 82,
      "outputs": [
        {
          "output_type": "stream",
          "text": "Deploying StorageAccount with name datahackstorageicdblhnd.\nDeployed StorageAccount with name datahackstorageicdblhnd.\nDeploying ContainerRegistry with name datahackacrhxfpybak.\nDeployed ContainerRegistry with name datahackacrhxfpybak.\nDeploying AppInsights with name datahackinsightsoertmucb.\nDeployed AppInsights with name datahackinsightsoertmucb.\nDeploying KeyVault with name datahackkeyvaultusjilajl.\nDeployed KeyVault with name datahackkeyvaultusjilajl.\nDeploying Workspace with name datahack-workspace.\nDeployed Workspace with name datahack-workspace.\n",
          "name": "stdout"
        },
        {
          "output_type": "execute_result",
          "execution_count": 82,
          "data": {
            "text/html": "<div>\n<style scoped>\n    .dataframe tbody tr th:only-of-type {\n        vertical-align: middle;\n    }\n\n    .dataframe tbody tr th {\n        vertical-align: top;\n    }\n\n    .dataframe thead th {\n        text-align: right;\n    }\n</style>\n<table border=\"1\" class=\"dataframe\">\n  <thead>\n    <tr style=\"text-align: right;\">\n      <th></th>\n      <th></th>\n    </tr>\n  </thead>\n  <tbody>\n    <tr>\n      <th>Location</th>\n      <td>eastus</td>\n    </tr>\n    <tr>\n      <th>Project Directory</th>\n      <td>./automated-ml-regression</td>\n    </tr>\n    <tr>\n      <th>Resource Group</th>\n      <td>Datahack2019</td>\n    </tr>\n    <tr>\n      <th>SDK version</th>\n      <td>1.0.23</td>\n    </tr>\n    <tr>\n      <th>Subscription ID</th>\n      <td>a0005a02-eceb-4ae6-866c-c8fcbec43ea7</td>\n    </tr>\n    <tr>\n      <th>Workspace</th>\n      <td>datahack-workspace</td>\n    </tr>\n  </tbody>\n</table>\n</div>",
            "text/plain": "                                                       \nLocation           eastus                              \nProject Directory  ./automated-ml-regression           \nResource Group     Datahack2019                        \nSDK version        1.0.23                              \nSubscription ID    a0005a02-eceb-4ae6-866c-c8fcbec43ea7\nWorkspace          datahack-workspace                  "
          },
          "metadata": {}
        }
      ]
    },
    {
      "metadata": {
        "trusted": true
      },
      "cell_type": "code",
      "source": "automl_settings = {\n    \"iteration_timeout_minutes\" : 10,\n    \"iterations\" : 30,\n    \"primary_metric\" : 'spearman_correlation',\n    \"preprocess\" : True,\n    \"verbosity\" : logging.INFO,\n    \"n_cross_validations\": 5\n}",
      "execution_count": 83,
      "outputs": []
    },
    {
      "metadata": {
        "trusted": true
      },
      "cell_type": "code",
      "source": "from azureml.train.automl import AutoMLConfig\n\n# local compute\nautomated_ml_config = AutoMLConfig(task = 'regression',\n                             debug_log = 'automated_ml_errors.log',\n                             path = project_folder,\n                             X = x_train.values,\n                             y = y_train.values.flatten(),\n                             **automl_settings)",
      "execution_count": 84,
      "outputs": []
    },
    {
      "metadata": {
        "trusted": true
      },
      "cell_type": "code",
      "source": "from azureml.core.experiment import Experiment\nexperiment=Experiment(ws, experiment_name)\nlocal_run = experiment.submit(automated_ml_config, show_output=True)",
      "execution_count": 85,
      "outputs": [
        {
          "output_type": "stream",
          "text": "Running on local machine\nParent Run ID: AutoML_97361757-e6eb-44f9-ab26-5b836d1135c5\n****************************************************************************************************\nITERATION: The iteration being evaluated.\nPIPELINE: A summary description of the pipeline being evaluated.\nDURATION: Time taken for the current iteration.\nMETRIC: The result of computing score on the fitted pipeline.\nBEST: The best observed score thus far.\n****************************************************************************************************\n\n ITERATION   PIPELINE                                       DURATION      METRIC      BEST\n         0   MaxAbsScaler RandomForest                      0:00:22       0.1535    0.1535\n         1   StandardScalerWrapper DecisionTree             0:00:15       0.2948    0.2948\n         2   StandardScalerWrapper LightGBM                 0:00:14       0.1430    0.2948\n         3   StandardScalerWrapper LightGBM                 0:00:22       0.0421    0.2948\n         4   MaxAbsScaler LightGBM                          0:00:13       0.1638    0.2948\n         5   MaxAbsScaler LightGBM                          0:00:15       0.1743    0.2948\n         6   MaxAbsScaler RandomForest                      0:00:42       0.2959    0.2959\n         7   StandardScalerWrapper ElasticNet               0:00:13       0.2524    0.2959\n         8   MaxAbsScaler LightGBM                          0:00:48       0.1814    0.2959\n         9   StandardScalerWrapper XGBoostRegressor         0:00:30       0.2877    0.2959\n        10   MaxAbsScaler SGD                               0:00:13       0.3179    0.3179\n        11   StandardScalerWrapper XGBoostRegressor         0:00:24       0.2609    0.3179\n        12   MaxAbsScaler LightGBM                          0:00:20       0.3075    0.3179\n        13   StandardScalerWrapper XGBoostRegressor         0:00:24       0.2691    0.3179\n        14   StandardScalerWrapper LightGBM                 0:00:18       0.2330    0.3179\n        15   MaxAbsScaler DecisionTree                      0:00:17       0.3174    0.3179\n        16   StandardScalerWrapper DecisionTree             0:00:15       0.3028    0.3179\n        17   MaxAbsScaler DecisionTree                      0:00:15       0.2962    0.3179\n        18   MaxAbsScaler ExtremeRandomTrees                0:01:06       0.3092    0.3179\n        19   StandardScalerWrapper DecisionTree             0:00:15       0.3009    0.3179\n        20   MaxAbsScaler SGD                               0:10:10       0.3317    0.3317\n        21   StandardScalerWrapper LightGBM                 0:00:20       0.3076    0.3317\n        22                                                  0:10:05          nan    0.3317\nERROR: Fit operation exceeded provided timeout, terminating and moving onto the next iteration.\n        23   SparseNormalizer XGBoostRegressor              0:00:50       0.3323    0.3323\n        24                                                  0:10:05          nan    0.3323\nERROR: Fit operation exceeded provided timeout, terminating and moving onto the next iteration.\n        25   StandardScalerWrapper XGBoostRegressor         0:03:41       0.3486    0.3486\n        26   MaxAbsScaler DecisionTree                      0:00:18       0.3066    0.3486\n        27   StandardScalerWrapper LightGBM                 0:02:08       0.1545    0.3486\n        28   StandardScalerWrapper XGBoostRegressor         0:07:47       0.3517    0.3517\n        29   Ensemble                                       0:01:27       0.3481    0.3517\n",
          "name": "stdout"
        }
      ]
    },
    {
      "metadata": {
        "trusted": true
      },
      "cell_type": "code",
      "source": "best_run, fitted_model = local_run.get_output()\nprint(best_run)\nprint(fitted_model)",
      "execution_count": 86,
      "outputs": [
        {
          "output_type": "stream",
          "text": "Run(Experiment: automated-ml-regression,\nId: AutoML_97361757-e6eb-44f9-ab26-5b836d1135c5_28,\nType: None,\nStatus: Completed)\nRegressionPipeline(mean=-0.0013557359186552789,\n          pipeline=Pipeline(memory=None,\n     steps=[('datatransformer', DataTransformer(is_onnx_compatible=None, logger=None, task=None)), ('StandardScalerWrapper', <automl.client.core.common.model_wrappers.StandardScalerWrapper object at 0x7f7c6661e400>), ('XGBoostRegressor', <automl.client.core.common.model_wrappers.XGBoostRegressor object at 0x7f7c6661e5f8>)]),\n          stddev=5.0279184538063175)\n",
          "name": "stdout"
        }
      ]
    },
    {
      "metadata": {
        "trusted": true
      },
      "cell_type": "code",
      "source": "y_predict = fitted_model.predict(x_test.values)",
      "execution_count": 88,
      "outputs": []
    },
    {
      "metadata": {
        "trusted": true
      },
      "cell_type": "code",
      "source": "import numpy as np\nrmse = np.sqrt(mean_squared_error(y_test, y_predict))\nprint(\"RMSE: %f\" % (rmse))",
      "execution_count": 89,
      "outputs": [
        {
          "output_type": "stream",
          "text": "RMSE: 2.283747\n",
          "name": "stdout"
        }
      ]
    },
    {
      "metadata": {},
      "cell_type": "markdown",
      "source": "# one more try using xgboost"
    },
    {
      "metadata": {
        "trusted": true
      },
      "cell_type": "code",
      "source": "import xgboost as xgb\nfrom sklearn.metrics import mean_squared_error",
      "execution_count": 72,
      "outputs": []
    },
    {
      "metadata": {
        "trusted": true
      },
      "cell_type": "code",
      "source": "xg_reg = xgb.XGBRegressor(objective ='reg:linear', colsample_bytree = 0.3, learning_rate = 0.1,\n                max_depth = 5, alpha = 10, n_estimators = 10)",
      "execution_count": 73,
      "outputs": []
    },
    {
      "metadata": {
        "trusted": true
      },
      "cell_type": "code",
      "source": "xg_reg.fit(x_train,y_train)",
      "execution_count": 75,
      "outputs": [
        {
          "output_type": "execute_result",
          "execution_count": 75,
          "data": {
            "text/plain": "XGBRegressor(alpha=10, base_score=0.5, booster='gbtree', colsample_bylevel=1,\n       colsample_bytree=0.3, gamma=0, learning_rate=0.1, max_delta_step=0,\n       max_depth=5, min_child_weight=1, missing=None, n_estimators=10,\n       n_jobs=1, nthread=None, objective='reg:linear', random_state=0,\n       reg_alpha=0, reg_lambda=1, scale_pos_weight=1, seed=None,\n       silent=True, subsample=1)"
          },
          "metadata": {}
        }
      ]
    },
    {
      "metadata": {
        "trusted": true
      },
      "cell_type": "code",
      "source": "preds = xg_reg.predict(x_test)",
      "execution_count": 76,
      "outputs": []
    },
    {
      "metadata": {
        "trusted": true
      },
      "cell_type": "code",
      "source": "import numpy as np\nrmse = np.sqrt(mean_squared_error(y_test, preds))\nprint(\"RMSE: %f\" % (rmse))",
      "execution_count": 78,
      "outputs": [
        {
          "output_type": "stream",
          "text": "RMSE: 2.624127\n",
          "name": "stdout"
        }
      ]
    },
    {
      "metadata": {
        "trusted": true
      },
      "cell_type": "code",
      "source": "preds",
      "execution_count": 79,
      "outputs": [
        {
          "output_type": "execute_result",
          "execution_count": 79,
          "data": {
            "text/plain": "array([1.4522419, 1.7539995, 1.4522419, ..., 1.7928886, 1.624563 ,\n       1.7928886], dtype=float32)"
          },
          "metadata": {}
        }
      ]
    },
    {
      "metadata": {
        "trusted": true
      },
      "cell_type": "code",
      "source": "",
      "execution_count": null,
      "outputs": []
    }
  ],
  "metadata": {
    "kernelspec": {
      "name": "python3",
      "display_name": "Python 3",
      "language": "python"
    },
    "language_info": {
      "pygments_lexer": "ipython3",
      "codemirror_mode": {
        "version": 3,
        "name": "ipython"
      },
      "mimetype": "text/x-python",
      "name": "python",
      "file_extension": ".py",
      "version": "3.5.5",
      "nbconvert_exporter": "python"
    }
  },
  "nbformat": 4,
  "nbformat_minor": 2
}